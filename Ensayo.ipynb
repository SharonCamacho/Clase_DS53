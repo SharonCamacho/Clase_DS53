{
  "nbformat": 4,
  "nbformat_minor": 0,
  "metadata": {
    "colab": {
      "name": "Ensayo.ipynb",
      "provenance": [],
      "authorship_tag": "ABX9TyNOigAJTE93FCxgdR7NfzMZ",
      "include_colab_link": true
    },
    "kernelspec": {
      "name": "python3",
      "display_name": "Python 3"
    }
  },
  "cells": [
    {
      "cell_type": "markdown",
      "metadata": {
        "id": "view-in-github",
        "colab_type": "text"
      },
      "source": [
        "<a href=\"https://colab.research.google.com/github/SharonCamacho/Clase_DS53/blob/main/Ensayo.ipynb\" target=\"_parent\"><img src=\"https://colab.research.google.com/assets/colab-badge.svg\" alt=\"Open In Colab\"/></a>"
      ]
    },
    {
      "cell_type": "code",
      "metadata": {
        "colab": {
          "base_uri": "https://localhost:8080/"
        },
        "id": "hy4zV-ymwiiT",
        "outputId": "60188206-c8a3-4d5d-fd7f-edcfdcae7a27"
      },
      "source": [
        "print('Hola mundo')"
      ],
      "execution_count": 1,
      "outputs": [
        {
          "output_type": "stream",
          "text": [
            "Hola mundo\n"
          ],
          "name": "stdout"
        }
      ]
    },
    {
      "cell_type": "code",
      "metadata": {
        "colab": {
          "base_uri": "https://localhost:8080/"
        },
        "id": "NGhHwMAxwlD9",
        "outputId": "99521908-1d69-434a-f43f-8a7ffd42c8e5"
      },
      "source": [
        "print('los chicos ya hablaron')"
      ],
      "execution_count": 3,
      "outputs": [
        {
          "output_type": "stream",
          "text": [
            "los chicos ya hablaron\n"
          ],
          "name": "stdout"
        }
      ]
    }
  ]
}