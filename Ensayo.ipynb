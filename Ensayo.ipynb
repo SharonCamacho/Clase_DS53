{
  "nbformat": 4,
  "nbformat_minor": 0,
  "metadata": {
    "colab": {
      "name": "Ensayo.ipynb",
      "provenance": [],
      "authorship_tag": "ABX9TyPEYmHbr+OqAuSO582QbUK9",
      "include_colab_link": true
    },
    "kernelspec": {
      "name": "python3",
      "display_name": "Python 3"
    }
  },
  "cells": [
    {
      "cell_type": "markdown",
      "metadata": {
        "id": "view-in-github",
        "colab_type": "text"
      },
      "source": [
        "<a href=\"https://colab.research.google.com/github/SharonCamacho/Clase_DS53/blob/main/Ensayo.ipynb\" target=\"_parent\"><img src=\"https://colab.research.google.com/assets/colab-badge.svg\" alt=\"Open In Colab\"/></a>"
      ]
    },
    {
      "cell_type": "code",
      "metadata": {
        "colab": {
          "base_uri": "https://localhost:8080/"
        },
        "id": "hy4zV-ymwiiT",
        "outputId": "60188206-c8a3-4d5d-fd7f-edcfdcae7a27"
      },
      "source": [
        "print('Hola mundo')"
      ],
      "execution_count": 1,
      "outputs": [
        {
          "output_type": "stream",
          "text": [
            "Hola mundo\n"
          ],
          "name": "stdout"
        }
      ]
    },
    {
      "cell_type": "code",
      "metadata": {
        "colab": {
          "base_uri": "https://localhost:8080/"
        },
        "id": "NGhHwMAxwlD9",
        "outputId": "21ba0cfb-2e12-4c86-a910-58603aa82301"
      },
      "source": [
        "print('chicos porqué están tan callados hoy')"
      ],
      "execution_count": 2,
      "outputs": [
        {
          "output_type": "stream",
          "text": [
            "chicos porqué están tan callados hoy\n"
          ],
          "name": "stdout"
        }
      ]
    }
  ]
}